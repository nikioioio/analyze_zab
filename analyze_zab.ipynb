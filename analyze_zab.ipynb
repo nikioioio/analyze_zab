{
 "cells": [
  {
   "cell_type": "code",
   "execution_count": 1,
   "id": "3dc320ee",
   "metadata": {},
   "outputs": [],
   "source": [
    "def get_razd(sx_razd,v_):\n",
    "    ch_razd = {}\n",
    "    #     если это деловая часть\n",
    "    for ind in sx_razd.index:\n",
    "\n",
    "        if sx_razd.at[ind,'Из какой части пром']==0:\n",
    "            v___ = v_ * sx_razd.at[ind,'Процент разделки']\n",
    "    #         df_cons = df_cons.append(pd.DataFrame({'Дата забоя':df['Дата забоя'],'Градация':grad,'Наименование части':fff.at[ind,'Часть'],'Объем':v___}))\n",
    "            ch_razd[sx_razd.at[ind,'Часть']] =v___\n",
    "\n",
    "\n",
    "    for ind in sx_razd.index:\n",
    "    #     для пром\n",
    "        if sx_razd.at[ind,'Из какой части пром']!=0:\n",
    "    #         print(fff.at[ind,'Из какой части пром'])\n",
    "    #         Процент вет брака\n",
    "            pr_vetbr = sx_razd[sx_razd['Из какой части пром']==sx_razd.at[ind,'Из какой части пром']]['Процент разделки'].values\n",
    "            v_pochasti = ch_razd[sx_razd.at[ind,'Из какой части пром']]\n",
    "            it_prom = pr_vetbr * v_pochasti\n",
    "            ch_razd[sx_razd.at[ind,'Часть']] = it_prom\n",
    "            ch_razd[sx_razd.at[ind,'Из какой части пром']] = ch_razd[sx_razd.at[ind,'Из какой части пром']] - ch_razd[sx_razd.at[ind,'Часть']]\n",
    "    \n",
    "#     Выбираем минимальное из деловых частей (там где больше одного элемента)\n",
    "    for ind in sx_razd.index:\n",
    "        ch_razd[sx_razd.at[ind,'Часть']] = min(ch_razd[sx_razd.at[ind,'Часть']])\n",
    "    \n",
    "    for key___ in ch_razd.keys():\n",
    "        ch_razd[key___] = ch_razd[key___].sum()\n",
    "    return ch_razd"
   ]
  },
  {
   "cell_type": "code",
   "execution_count": 2,
   "id": "8ad5316e",
   "metadata": {},
   "outputs": [],
   "source": [
    "import pandas as pd\n",
    "import datetime"
   ]
  },
  {
   "cell_type": "code",
   "execution_count": 3,
   "id": "6db32e85",
   "metadata": {},
   "outputs": [],
   "source": [
    "directory = 'C:\\\\Users\\\\Кедрун Никита\\\\PycharmProjects\\\\analyze_zab\\\\unput\\\\'"
   ]
  },
  {
   "cell_type": "code",
   "execution_count": 4,
   "id": "d689d708",
   "metadata": {},
   "outputs": [],
   "source": [
    "ukpf =  pd.read_excel(directory+'УКПФ_заб.xlsx',sheet_name='Забой')\n",
    "mpf =  pd.read_excel(directory+'МПФ_заб.xlsx',sheet_name='Забой')\n",
    "chema_r = pd.read_excel(directory+'Схемы разделки.xlsx',sheet_name='Лист1')"
   ]
  },
  {
   "cell_type": "code",
   "execution_count": 5,
   "id": "814e993c",
   "metadata": {},
   "outputs": [],
   "source": [
    "# какие месяца по дням а какие по месяцам\n",
    "params = {'days':[8],'month':[9,10,11,12]}\n",
    "\n",
    "# Сколько с градации брать на разделку\n",
    "\n",
    "dict_ ={'0,500-0,550':0, \n",
    "        '0,550-0,600':0, \n",
    "        '0,600-0,650':0,\n",
    "        '0,650-0,700':0, \n",
    "        '0,700-0,750':0, \n",
    "        '0,750-0,800':0, \n",
    "        '0,800-0,850':0,\n",
    "        '0,850-0,900':0, \n",
    "        '0,900-0,950':0, \n",
    "        '0,950-1,000':0, \n",
    "        '1,000-1,050':0,\n",
    "        '1,050-1,100':0, \n",
    "        '1,100-1,150':0, \n",
    "        '1,150-1,200':0.2, \n",
    "        '1,200-1,250':0.7,\n",
    "        '1,250-1,300':0.8, \n",
    "        '1,300-1,350':0, \n",
    "        '1,350-1,400':0, \n",
    "        '1,400-1,450':0,\n",
    "        '1,450-1,500':0, \n",
    "        '1,500-1,550':0, \n",
    "        '1,550-1,600':0, \n",
    "        '1,600-1,650':0,\n",
    "        '1,650-1,700':0, \n",
    "        '1,700-1,750':0, \n",
    "        '1,750-1,800':0, \n",
    "        '1,800-1,850':0,\n",
    "        '1,850-1,900':0, \n",
    "        '1,900-1,950':0, \n",
    "        '1,950-2,000':0, \n",
    "        '2,000-2,050':0,\n",
    "        '2,050-2,100':0, \n",
    "        '2,100-2,150':0, \n",
    "        '2,150-2,200':0, \n",
    "        '2,200-2,250':0,\n",
    "        '2,250-2,300':0, \n",
    "        '2,300-2,350':0, \n",
    "        '2,350-2,400':0, \n",
    "        '2,400-2,450':0,\n",
    "        '2,450-2,500':0, \n",
    "        '2,500-3,500':0}\n",
    "\n",
    "\n",
    "# пропорция по схемам разделки\n",
    "dict_sx = {1:0.5,2:0.3,3:0.2}"
   ]
  },
  {
   "cell_type": "code",
   "execution_count": 6,
   "id": "6550fcf6",
   "metadata": {},
   "outputs": [],
   "source": [
    "df_for_days = ukpf[[True  if x.month == params['days'][0] else False for x in ukpf['Дата забоя']]]\n",
    "df_for_days_gr = df_for_days.groupby('Дата забоя').sum().reset_index()"
   ]
  },
  {
   "cell_type": "code",
   "execution_count": 7,
   "id": "77c79099",
   "metadata": {},
   "outputs": [],
   "source": [
    "df_cons = pd.DataFrame()\n",
    "for date in df_for_days_gr['Дата забоя'].unique():\n",
    "    \n",
    "    df = df_for_days_gr[df_for_days_gr['Дата забоя']==date]\n",
    "    \n",
    "    for grad in dict_.keys():\n",
    "        \n",
    "        \n",
    "        v_razd = df[grad].values * dict_[grad]\n",
    "        v_cb = df[grad].values * (1- dict_[grad])\n",
    "        \n",
    "#         Часть с разделкой\n",
    "        if v_razd>0:\n",
    "            \n",
    "#             print(v_razd)\n",
    "            \n",
    "#             Иду по пропорции разделки\n",
    "            for el_sx in dict_sx.keys():\n",
    "        \n",
    "#                 Объем по схеме\n",
    "                v_ = v_razd * dict_sx[el_sx]\n",
    "#                 print(str(v_razd)+' '+ str(v_))\n",
    "                sx_razd = chema_r[chema_r['Номер'] == el_sx]\n",
    "                it_chema = get_razd(sx_razd,v_)\n",
    "                for key_ in it_chema.keys():\n",
    "                    df_cons = df_cons.append(pd.DataFrame({'Дата забоя':df['Дата забоя'],'Градация':grad,'Наименование части':key_,'Объем':it_chema[key_]}))\n",
    "#                     print(key_)\n",
    "#                     break\n",
    "#                 break\n",
    "                \n",
    "                \n",
    "    \n",
    "#                 print('общий объем'+ str(v_razd) + ' Объем на конкретную схему эту '+str(v_))\n",
    "                \n",
    "        \n",
    "        \n",
    "#         Часть ЦБ\n",
    "        if v_cb>0:\n",
    "            \n",
    "            df_cons = df_cons.append(pd.DataFrame({'Дата забоя':df['Дата забоя'],'Градация':grad,'Наименование части':'ЦБ','Объем':v_cb}))\n",
    "            \n",
    "        "
   ]
  },
  {
   "cell_type": "code",
   "execution_count": 8,
   "id": "8ac37773",
   "metadata": {},
   "outputs": [],
   "source": [
    "df_cons = df_cons.groupby(['Дата забоя','Градация','Наименование части']).sum().reset_index()\n",
    "\n",
    "df_cons.to_excel(directory+' test.xlsx')"
   ]
  },
  {
   "cell_type": "code",
   "execution_count": 9,
   "id": "a133b491",
   "metadata": {},
   "outputs": [
    {
     "name": "stderr",
     "output_type": "stream",
     "text": [
      "C:\\Users\\8777~1\\AppData\\Local\\Temp/ipykernel_15344/2610622463.py:2: SettingWithCopyWarning: \n",
      "A value is trying to be set on a copy of a slice from a DataFrame.\n",
      "Try using .loc[row_indexer,col_indexer] = value instead\n",
      "\n",
      "See the caveats in the documentation: https://pandas.pydata.org/pandas-docs/stable/user_guide/indexing.html#returning-a-view-versus-a-copy\n",
      "  df_for_days['Дата забоя'] = [datetime.datetime(x.year,x.month,1) for x in df_for_days['Дата забоя']]\n"
     ]
    }
   ],
   "source": [
    "df_for_days = ukpf[ukpf['Дата забоя'].dt.month.isin(params['month'])]\n",
    "df_for_days['Дата забоя'] = [datetime.datetime(x.year,x.month,1) for x in df_for_days['Дата забоя']]"
   ]
  },
  {
   "cell_type": "code",
   "execution_count": 10,
   "id": "90aa391a",
   "metadata": {},
   "outputs": [],
   "source": [
    "df_for_days_gr = df_for_days.groupby('Дата забоя').sum().reset_index()"
   ]
  },
  {
   "cell_type": "code",
   "execution_count": 11,
   "id": "6a7a8435",
   "metadata": {},
   "outputs": [],
   "source": [
    "df_cons = pd.DataFrame()\n",
    "for date in df_for_days_gr['Дата забоя'].unique():\n",
    "    \n",
    "    df = df_for_days_gr[df_for_days_gr['Дата забоя']==date]\n",
    "    \n",
    "    for grad in dict_.keys():\n",
    "        \n",
    "        \n",
    "        v_razd = df[grad].values * dict_[grad]\n",
    "        v_cb = df[grad].values * (1- dict_[grad])\n",
    "        \n",
    "#         Часть с разделкой\n",
    "        if v_razd>0:\n",
    "            \n",
    "#             print(v_razd)\n",
    "            \n",
    "#             Иду по пропорции разделки\n",
    "            for el_sx in dict_sx.keys():\n",
    "        \n",
    "#                 Объем по схеме\n",
    "                v_ = v_razd * dict_sx[el_sx]\n",
    "#                 print(str(v_razd)+' '+ str(v_))\n",
    "                sx_razd = chema_r[chema_r['Номер'] == el_sx]\n",
    "                it_chema = get_razd(sx_razd,v_)\n",
    "                for key_ in it_chema.keys():\n",
    "                    df_cons = df_cons.append(pd.DataFrame({'Дата забоя':df['Дата забоя'],'Градация':grad,'Наименование части':key_,'Объем':it_chema[key_]}))\n",
    "#                     print(key_)\n",
    "#                     break\n",
    "#                 break\n",
    "                \n",
    "                \n",
    "    \n",
    "#                 print('общий объем'+ str(v_razd) + ' Объем на конкретную схему эту '+str(v_))\n",
    "                \n",
    "        \n",
    "        \n",
    "#         Часть ЦБ\n",
    "        if v_cb>0:\n",
    "            \n",
    "            df_cons = df_cons.append(pd.DataFrame({'Дата забоя':df['Дата забоя'],'Градация':grad,'Наименование части':'ЦБ','Объем':v_cb}))"
   ]
  },
  {
   "cell_type": "code",
   "execution_count": 12,
   "id": "a12ed011",
   "metadata": {},
   "outputs": [],
   "source": [
    "df_cons = df_cons.groupby(['Дата забоя','Градация','Наименование части']).sum().reset_index()\n",
    "df_cons.to_excel(directory+' test1.xlsx')"
   ]
  },
  {
   "cell_type": "code",
   "execution_count": null,
   "id": "273e10ef",
   "metadata": {},
   "outputs": [],
   "source": []
  }
 ],
 "metadata": {
  "kernelspec": {
   "display_name": "Python 3 (ipykernel)",
   "language": "python",
   "name": "python3"
  },
  "language_info": {
   "codemirror_mode": {
    "name": "ipython",
    "version": 3
   },
   "file_extension": ".py",
   "mimetype": "text/x-python",
   "name": "python",
   "nbconvert_exporter": "python",
   "pygments_lexer": "ipython3",
   "version": "3.9.5"
  }
 },
 "nbformat": 4,
 "nbformat_minor": 5
}
