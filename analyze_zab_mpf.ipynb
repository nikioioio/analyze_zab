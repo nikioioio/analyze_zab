{
 "cells": [
  {
   "cell_type": "code",
   "execution_count": 1,
   "id": "50fc043a",
   "metadata": {},
   "outputs": [],
   "source": [
    "import pandas as pd\n",
    "import datetime\n",
    "import numpy as np\n",
    "# функция для раздулки\n",
    "def get_razd(sx_razd,v_):\n",
    "    ch_razd = {}\n",
    "    #     если это деловая часть\n",
    "    for ind in sx_razd.index:\n",
    "\n",
    "        if sx_razd.at[ind,'Из какой части пром']==0:\n",
    "            v___ = v_ * sx_razd.at[ind,'Процент разделки']\n",
    "    #         df_cons = df_cons.append(pd.DataFrame({'Дата забоя':df['Дата забоя'],'Градация':grad,'Наименование части':fff.at[ind,'Часть'],'Объем':v___}))\n",
    "            ch_razd[sx_razd.at[ind,'Часть']] =v___\n",
    "\n",
    "\n",
    "    for ind in sx_razd.index:\n",
    "    #     для пром\n",
    "        if sx_razd.at[ind,'Из какой части пром']!=0:\n",
    "    #         print(fff.at[ind,'Из какой части пром'])\n",
    "    #         Процент вет брака\n",
    "            pr_vetbr = sx_razd[(sx_razd['Из какой части пром']==sx_razd.at[ind,'Из какой части пром'])&(sx_razd['Часть']==sx_razd.at[ind,'Часть'])]['Процент разделки'].values\n",
    "            v_pochasti = ch_razd[sx_razd.at[ind,'Из какой части пром']]\n",
    "            it_prom = pr_vetbr * v_pochasti\n",
    "            ch_razd[sx_razd.at[ind,'Часть']] = it_prom\n",
    "            ch_razd[sx_razd.at[ind,'Из какой части пром']] = ch_razd[sx_razd.at[ind,'Из какой части пром']] - ch_razd[sx_razd.at[ind,'Часть']]\n",
    "    \n",
    "#     Выбираем минимальное из деловых частей (там где больше одного элемента)\n",
    "    for ind in sx_razd.index:\n",
    "        ch_razd[sx_razd.at[ind,'Часть']] = min(ch_razd[sx_razd.at[ind,'Часть']])\n",
    "    \n",
    "    for key___ in ch_razd.keys():\n",
    "        ch_razd[key___] = ch_razd[key___].sum()\n",
    "    return ch_razd\n",
    "\n",
    "\n",
    "# делит по 100 гр\n",
    "def get_po_sto_gr(inp):\n",
    "    inp = inp.set_index('Дата забоя')\n",
    "    df = pd.DataFrame(inp.index)\n",
    "    df = df.set_index('Дата забоя')\n",
    "    for ind, col in enumerate(inp.columns):\n",
    "#         print(col.split('-')[0]=='2,500')\n",
    "        try:\n",
    "            if col.split('-')[0]=='2,500':\n",
    "                df['2,500-3,500'] = inp['2,500-3,500']\n",
    "#                 print(col)\n",
    "            \n",
    "            if ind ==0 or ind%2==0:\n",
    "                cols = inp.iloc[:,[ind,ind+1]].columns\n",
    "                df[cols[0].split('-')[0]+'-'+cols[1].split('-')[1]] = inp.iloc[:,[ind,ind+1]].sum(axis = 1)\n",
    "\n",
    "            \n",
    "        except IndexError:\n",
    "            pass\n",
    "    return df.reset_index()\n",
    "\n",
    "# логика формирования итогового фрейма\n",
    "\n",
    "def get_cons_arr(df_gr,dict_,chema_r,dict_sx):\n",
    "\n",
    "    df_cons = pd.DataFrame()\n",
    "    for date in df_gr['Дата забоя'].unique():\n",
    "\n",
    "        df = df_gr[df_gr['Дата забоя']==date]\n",
    "\n",
    "        for grad in dict_.keys():\n",
    "\n",
    "\n",
    "            v_razd = df[grad].values * dict_[grad]\n",
    "            v_cb = df[grad].values * (1- dict_[grad])\n",
    "\n",
    "    #         Часть с разделкой\n",
    "            if v_razd>0:\n",
    "\n",
    "    #             print(v_razd)\n",
    "\n",
    "    #             Иду по пропорции разделки\n",
    "                for el_sx in dict_sx.keys():\n",
    "\n",
    "    #                 Объем по схеме\n",
    "                    v_ = v_razd * dict_sx[el_sx]\n",
    "    #                 print(str(v_razd)+' '+ str(v_))\n",
    "                    sx_razd = chema_r[chema_r['Номер'] == el_sx]\n",
    "                    it_chema = get_razd(sx_razd,v_)\n",
    "                    for key_ in it_chema.keys():\n",
    "                        df_cons = df_cons.append(pd.DataFrame({'Дата забоя':df['Дата забоя'],'Градация':grad,'Наименование части':key_,'Объем':it_chema[key_]}))\n",
    "    #                     print(key_)\n",
    "    #                     break\n",
    "    #                 break\n",
    "\n",
    "\n",
    "\n",
    "    #                 print('общий объем'+ str(v_razd) + ' Объем на конкретную схему эту '+str(v_))\n",
    "\n",
    "\n",
    "\n",
    "    #         Часть ЦБ\n",
    "            if v_cb>0:\n",
    "\n",
    "                df_cons = df_cons.append(pd.DataFrame({'Дата забоя':df['Дата забоя'],'Градация':grad,'Наименование части':'ЦБ','Объем':v_cb}))\n",
    "    return df_cons\n",
    "\n",
    "\n",
    "# формирование чахохбили\n",
    "def calc_dop_chakh(cons2,from_name,to_name,percent):\n",
    "    for_ch_okor = cons2.loc[cons2['Наименование части']==from_name]\n",
    "    ost_okor = cons2.loc[cons2['Наименование части']==from_name]\n",
    "\n",
    "    for col in for_ch_okor.columns:\n",
    "        try:\n",
    "            for_ch_okor.loc[:,col] = for_ch_okor.loc[:,col]*percent\n",
    "        except TypeError:\n",
    "            pass\n",
    "\n",
    "    for col in ost_okor.columns:\n",
    "        if ost_okor[col].dtype=='float':\n",
    "            cons2.loc[cons2['Наименование части']==from_name,col] = ost_okor[col]-for_ch_okor[col]\n",
    "\n",
    "    for_ch_okor['Наименование части'] = to_name\n",
    "\n",
    "    cons2 = cons2.append(for_ch_okor).reset_index(drop=True)\n",
    "    return cons2\n",
    "        "
   ]
  },
  {
   "cell_type": "code",
   "execution_count": 2,
   "id": "11beebaf",
   "metadata": {},
   "outputs": [],
   "source": [
    "directory = 'C:\\\\Users\\\\Кедрун Никита\\\\PycharmProjects\\\\analyze_zab\\\\unput\\\\'\n",
    "\n",
    "\n",
    "# какие месяца по дням а какие по месяцам\n",
    "params = {'days':[8],'month':[9,10,11,12]}\n",
    "\n",
    "# Сколько с градации брать на разделку\n",
    "\n",
    "\n",
    "dict_ ={'0,500-0,600':0, \n",
    "        '0,600-0,700':0, \n",
    "        '0,700-0,800':0, \n",
    "        '0,800-0,900':0,\n",
    "        '0,900-1,000':0, \n",
    "        '1,000-1,100':0, \n",
    "        '1,100-1,200':0, \n",
    "        '1,200-1,300':0.9,\n",
    "        '1,300-1,400':0.6, \n",
    "        '1,400-1,500':0, \n",
    "        '1,500-1,600':0.8, \n",
    "        '1,600-1,700':0,\n",
    "        '1,700-1,800':0.5, \n",
    "        '1,800-1,900':0, \n",
    "        '1,900-2,000':0, \n",
    "        '2,000-2,100':0,\n",
    "        '2,100-2,200':0, \n",
    "        '2,200-2,300':0, \n",
    "        '2,300-2,400':0, \n",
    "        '2,400-2,500':0,\n",
    "        '2,500-3,500':0}\n",
    "\n",
    "\n",
    "# пропорция по схемам разделки\n",
    "dict_sx = {1:0.5,2:0.5}"
   ]
  },
  {
   "cell_type": "code",
   "execution_count": 3,
   "id": "7c185914",
   "metadata": {},
   "outputs": [],
   "source": [
    "mpf =  pd.read_excel(directory+'МПФ_заб.xlsx',sheet_name='Забой')\n",
    "mpf = get_po_sto_gr(mpf)\n",
    "chema_r = pd.read_excel(directory+'Схемы разделки МПФ.xlsx',sheet_name='Лист1')"
   ]
  },
  {
   "cell_type": "code",
   "execution_count": 4,
   "id": "080c5bb4",
   "metadata": {},
   "outputs": [],
   "source": [
    "# Часть по дням\n",
    "df_for_days = mpf[[True  if x.month == params['days'][0] else False for x in mpf['Дата забоя']]]\n",
    "df_for_days_gr = df_for_days.groupby('Дата забоя').sum().reset_index()"
   ]
  },
  {
   "cell_type": "code",
   "execution_count": 5,
   "id": "98196558",
   "metadata": {},
   "outputs": [],
   "source": [
    "df_for_days = get_cons_arr(df_for_days_gr,dict_,chema_r,dict_sx)"
   ]
  },
  {
   "cell_type": "code",
   "execution_count": 6,
   "id": "2ac5fc50",
   "metadata": {},
   "outputs": [
    {
     "name": "stderr",
     "output_type": "stream",
     "text": [
      "C:\\Users\\8777~1\\AppData\\Local\\Temp/ipykernel_15272/3183176384.py:3: SettingWithCopyWarning: \n",
      "A value is trying to be set on a copy of a slice from a DataFrame.\n",
      "Try using .loc[row_indexer,col_indexer] = value instead\n",
      "\n",
      "See the caveats in the documentation: https://pandas.pydata.org/pandas-docs/stable/user_guide/indexing.html#returning-a-view-versus-a-copy\n",
      "  df_for_month['Дата забоя'] = [datetime.datetime(x.year,x.month,1) for x in df_for_month['Дата забоя']]\n"
     ]
    }
   ],
   "source": [
    "# Часть по месяцам\n",
    "df_for_month = mpf[mpf['Дата забоя'].dt.month.isin(params['month'])]\n",
    "df_for_month['Дата забоя'] = [datetime.datetime(x.year,x.month,1) for x in df_for_month['Дата забоя']]\n",
    "df_for_month_gr = df_for_month.groupby('Дата забоя').sum().reset_index()"
   ]
  },
  {
   "cell_type": "code",
   "execution_count": 7,
   "id": "3610fbf4",
   "metadata": {},
   "outputs": [],
   "source": [
    "df_for_month = get_cons_arr(df_for_month_gr,dict_,chema_r,dict_sx)"
   ]
  },
  {
   "cell_type": "code",
   "execution_count": 8,
   "id": "a603eddf",
   "metadata": {},
   "outputs": [],
   "source": [
    "cons1 = df_for_days.append(df_for_month)"
   ]
  },
  {
   "cell_type": "code",
   "execution_count": 9,
   "id": "36835a85",
   "metadata": {},
   "outputs": [],
   "source": [
    "cons2 = pd.pivot_table(cons1, values = 'Объем',index =['Градация','Наименование части'],columns = 'Дата забоя',aggfunc=np.sum ).reset_index().fillna(0)"
   ]
  },
  {
   "cell_type": "code",
   "execution_count": 10,
   "id": "1cf22925",
   "metadata": {},
   "outputs": [],
   "source": [
    "cons2 = calc_dop_chakh(cons2,'Окорочек','Сырье для чахохбили',0.7)\n",
    "cons2 = calc_dop_chakh(cons2,'Кость килевая','Сырье для чахохбили',0.3)"
   ]
  },
  {
   "cell_type": "code",
   "execution_count": 11,
   "id": "906f623c",
   "metadata": {},
   "outputs": [],
   "source": [
    "cons2.sort_values(['Наименование части','Градация']).to_excel(directory+' testMPF.xlsx')"
   ]
  },
  {
   "cell_type": "code",
   "execution_count": null,
   "id": "fa03b1a2",
   "metadata": {},
   "outputs": [],
   "source": []
  }
 ],
 "metadata": {
  "kernelspec": {
   "display_name": "Python 3 (ipykernel)",
   "language": "python",
   "name": "python3"
  },
  "language_info": {
   "codemirror_mode": {
    "name": "ipython",
    "version": 3
   },
   "file_extension": ".py",
   "mimetype": "text/x-python",
   "name": "python",
   "nbconvert_exporter": "python",
   "pygments_lexer": "ipython3",
   "version": "3.9.5"
  }
 },
 "nbformat": 4,
 "nbformat_minor": 5
}
