{
 "cells": [
  {
   "cell_type": "code",
   "execution_count": null,
   "id": "6200e8b6",
   "metadata": {
    "hide_input": false
   },
   "outputs": [],
   "source": [
    "import pandas as pd\n",
    "import datetime\n",
    "import numpy as np\n",
    "import warnings\n",
    "warnings.filterwarnings('ignore')\n",
    "# функция для раздулки\n",
    "def get_razd(sx_razd,v_):\n",
    "    ch_razd = {}\n",
    "    #     если это деловая часть\n",
    "    for ind in sx_razd.index:\n",
    "\n",
    "        if sx_razd.at[ind,'Из какой части пром']==0:\n",
    "            v___ = v_ * sx_razd.at[ind,'Процент разделки']\n",
    "    #         df_cons = df_cons.append(pd.DataFrame({'Дата забоя':df['Дата забоя'],'Градация':grad,'Наименование части':fff.at[ind,'Часть'],'Объем':v___}))\n",
    "            ch_razd[sx_razd.at[ind,'Часть']] =v___\n",
    "\n",
    "\n",
    "    for ind in sx_razd.index:\n",
    "    #     для пром\n",
    "        if sx_razd.at[ind,'Из какой части пром']!=0:\n",
    "    #         print(fff.at[ind,'Из какой части пром'])\n",
    "    #         Процент вет брака\n",
    "            pr_vetbr = sx_razd[(sx_razd['Из какой части пром']==sx_razd.at[ind,'Из какой части пром'])&(sx_razd['Часть']==sx_razd.at[ind,'Часть'])]['Процент разделки'].values\n",
    "            v_pochasti = ch_razd[sx_razd.at[ind,'Из какой части пром']]\n",
    "            it_prom = pr_vetbr * v_pochasti\n",
    "            ch_razd[sx_razd.at[ind,'Часть']] = it_prom\n",
    "            ch_razd[sx_razd.at[ind,'Из какой части пром']] = ch_razd[sx_razd.at[ind,'Из какой части пром']] - ch_razd[sx_razd.at[ind,'Часть']]\n",
    "    \n",
    "#     Выбираем минимальное из деловых частей (там где больше одного элемента)\n",
    "    for ind in sx_razd.index:\n",
    "        ch_razd[sx_razd.at[ind,'Часть']] = min(ch_razd[sx_razd.at[ind,'Часть']])\n",
    "    \n",
    "    for key___ in ch_razd.keys():\n",
    "        ch_razd[key___] = ch_razd[key___].sum()\n",
    "    return ch_razd\n",
    "\n",
    "\n",
    "# делит по 100 гр\n",
    "def get_po_sto_gr(inp):\n",
    "    inp = inp.set_index('Дата забоя')\n",
    "    df = pd.DataFrame(inp.index)\n",
    "    df = df.set_index('Дата забоя')\n",
    "    for ind, col in enumerate(inp.columns):\n",
    "#         print(col.split('-')[0]=='2,500')\n",
    "        try:\n",
    "            if col.split('-')[0]=='2,500':\n",
    "                df['2,500-3,500'] = inp['2,500-3,500']\n",
    "#                 print(col)\n",
    "            \n",
    "            if ind ==0 or ind%2==0:\n",
    "                cols = inp.iloc[:,[ind,ind+1]].columns\n",
    "                df[cols[0].split('-')[0]+'-'+cols[1].split('-')[1]] = inp.iloc[:,[ind,ind+1]].sum(axis = 1)\n",
    "\n",
    "            \n",
    "        except IndexError:\n",
    "            pass\n",
    "    return df.reset_index()\n",
    "\n",
    "# логика формирования итогового фрейма\n",
    "\n",
    "def get_cons_arr(df_gr,dict_,chema_r,dict_sx):\n",
    "\n",
    "    df_cons = pd.DataFrame()\n",
    "    for date in df_gr['Дата забоя'].unique():\n",
    "\n",
    "        df = df_gr[df_gr['Дата забоя']==date]\n",
    "\n",
    "        for grad in dict_.keys():\n",
    "\n",
    "\n",
    "            v_razd = df[grad].values * dict_[grad]\n",
    "            v_cb = df[grad].values * (1- dict_[grad])\n",
    "\n",
    "    #         Часть с разделкой\n",
    "            if v_razd>0:\n",
    "\n",
    "    #             print(v_razd)\n",
    "\n",
    "    #             Иду по пропорции разделки\n",
    "                for el_sx in dict_sx.keys():\n",
    "\n",
    "    #                 Объем по схеме\n",
    "                    v_ = v_razd * dict_sx[el_sx]\n",
    "    #                 print(str(v_razd)+' '+ str(v_))\n",
    "                    sx_razd = chema_r[chema_r['Номер'] == el_sx]\n",
    "                    it_chema = get_razd(sx_razd,v_)\n",
    "                    for key_ in it_chema.keys():\n",
    "                        df_cons = df_cons.append(pd.DataFrame({'Дата забоя':df['Дата забоя'],'Градация':grad,'Наименование части':key_,'Объем':it_chema[key_]}))\n",
    "    #                     print(key_)\n",
    "    #                     break\n",
    "    #                 break\n",
    "\n",
    "\n",
    "\n",
    "    #                 print('общий объем'+ str(v_razd) + ' Объем на конкретную схему эту '+str(v_))\n",
    "\n",
    "\n",
    "\n",
    "    #         Часть ЦБ\n",
    "            if v_cb>0:\n",
    "\n",
    "                df_cons = df_cons.append(pd.DataFrame({'Дата забоя':df['Дата забоя'],'Градация':grad,'Наименование части':'ЦБ','Объем':v_cb}))\n",
    "    return df_cons\n",
    "\n",
    "\n",
    "# разбивает часть по процентц в аргументе\n",
    "def calc_division_ch(cons2,from_name,to_name,percent):\n",
    "    for_ch_okor = cons2.loc[cons2['Наименование части']==from_name]\n",
    "    ost_okor = cons2.loc[cons2['Наименование части']==from_name]\n",
    "\n",
    "    for col in for_ch_okor.columns:\n",
    "        try:\n",
    "            for_ch_okor.loc[:,col] = for_ch_okor.loc[:,col]*percent\n",
    "        except TypeError:\n",
    "            pass\n",
    "\n",
    "    for col in ost_okor.columns:\n",
    "        if ost_okor[col].dtype=='float':\n",
    "            cons2.loc[cons2['Наименование части']==from_name,col] = ost_okor[col]-for_ch_okor[col]\n",
    "\n",
    "    for_ch_okor['Наименование части'] = to_name\n",
    "\n",
    "    cons2 = cons2.append(for_ch_okor).reset_index(drop=True)\n",
    "    return cons2\n",
    "        \n",
    "    \n",
    "# формирование чахохбили\n",
    "# \n",
    "\n",
    "# суммирует значения с фильтром по числовому значению\n",
    "def total_sum(name_col,value_,df):\n",
    "    sum_ = 0\n",
    "    for str_ in df[df[name_col]==value_].sum():\n",
    "        if isinstance(str_, np.float64):\n",
    "            sum_ = sum_+str_\n",
    "\n",
    "    return sum_\n",
    "\n",
    "\n",
    "# Формирование чахохбили из объема\n",
    "\n",
    "\"\"\"Параметры : cons2:обрабобатываемый df\n",
    "               from_name: часть откуда бурем \n",
    "               to_name: часть куда транспортируем объем\n",
    "               percent: процент по анатомии\n",
    "               tagret_val: целевой объем to_name\"\"\"\n",
    "\n",
    "def calc_dop_chakh(cons2,from_name,to_name,percent,tagret_val):\n",
    "    \n",
    "    target_calc = tagret_val*percent\n",
    "    \n",
    "    for_ch_okor = cons2.loc[cons2['Наименование части']==from_name]\n",
    "    ost_okor = cons2.loc[cons2['Наименование части']==from_name]\n",
    "    \n",
    "    tot_sum = total_sum('Наименование части',from_name,cons2)\n",
    "    if target_calc >= tot_sum:\n",
    "        print('Не возможно сделать данный объем '+to_name+' из '+from_name+', уменьшите его')\n",
    "        return 0\n",
    "    for col in for_ch_okor.columns:\n",
    "        if for_ch_okor[col].dtype=='float':\n",
    "            for_ch_okor.loc[cons2['Наименование части']==from_name,col] = for_ch_okor.loc[cons2['Наименование части']==from_name,col]/tot_sum*target_calc\n",
    "\n",
    "\n",
    "    for col in ost_okor.columns:\n",
    "            if ost_okor[col].dtype=='float':\n",
    "                cons2.loc[cons2['Наименование части']==from_name,col] = ost_okor[col]-for_ch_okor[col]\n",
    "\n",
    "    for_ch_okor['Наименование части'] = 'Сырье для чахохбили'\n",
    "    \n",
    "    cons2 = cons2.append(for_ch_okor).reset_index(drop=True)\n",
    "    \n",
    "    return cons2"
   ]
  },
  {
   "cell_type": "code",
   "execution_count": null,
   "id": "d697b5a4",
   "metadata": {},
   "outputs": [],
   "source": [
    "directory = 'C:\\\\Users\\\\Кедрун Никита\\\\PycharmProjects\\\\analyze_zab\\\\unput\\\\'\n",
    "directory_out = 'C:\\\\Users\\\\Кедрун Никита\\\\PycharmProjects\\\\analyze_zab\\\\output\\\\'\n",
    "\n",
    "year = 2021\n",
    "\n",
    "# какие месяца по дням а какие по месяцам\n",
    "params = {'days':[8],'month':[9,10,11,12]}\n",
    "\n",
    "# Сколько с градации брать на разделку\n",
    "\n",
    "\n",
    "dict_ ={'0,500-0,600':0, \n",
    "        '0,600-0,700':0, \n",
    "        '0,700-0,800':0, \n",
    "        '0,800-0,900':0,\n",
    "        '0,900-1,000':0.9, \n",
    "        '1,000-1,100':0.9, \n",
    "        '1,100-1,200':0.9, \n",
    "        '1,200-1,300':0.9,\n",
    "        '1,300-1,400':0.6, \n",
    "        '1,400-1,500':0.9, \n",
    "        '1,500-1,600':0.9, \n",
    "        '1,600-1,700':0,\n",
    "        '1,700-1,800':0, \n",
    "        '1,800-1,900':0, \n",
    "        '1,900-2,000':0, \n",
    "        '2,000-2,100':0,\n",
    "        '2,100-2,200':0, \n",
    "        '2,200-2,300':0, \n",
    "        '2,300-2,400':0, \n",
    "        '2,400-2,500':0,\n",
    "        '2,500-3,500':0}\n",
    "\n",
    "cols_sub = ['Дата забоя','Печень, тн','Сердца, тн','Желудки, тн','Шеи, тн','Жир','Головы, тн','Лапы, тн','Утиль, тн']\n",
    "\n",
    "\n",
    "\n",
    "# пропорция по схемам разделки\n",
    "dict_sx = {1:0.2,2:0.3,3:0.3,4:0.1,5:0.1}\n",
    "\n",
    "# Сколько сделать чахохбили\n",
    "target_chakhoh = 6"
   ]
  },
  {
   "cell_type": "code",
   "execution_count": null,
   "id": "e9b8fcf3",
   "metadata": {},
   "outputs": [],
   "source": [
    "ukpf =  pd.read_excel(directory+'УКПФ_заб.xlsx',sheet_name='Забой')\n",
    "ukpf_sub = ukpf[cols_sub].copy()\n",
    "ukpf = get_po_sto_gr(ukpf)\n",
    "chema_r = pd.read_excel(directory+'Схемы разделки УКПФ.xlsx',sheet_name='Лист1')"
   ]
  },
  {
   "cell_type": "code",
   "execution_count": null,
   "id": "3e258fe0",
   "metadata": {},
   "outputs": [],
   "source": [
    "# Часть по дням\n",
    "df_for_days = ukpf[([True  if x.month == params['days'][0] else False for x in ukpf['Дата забоя']])&(ukpf['Дата забоя'].dt.year==year)]\n",
    "df_for_days_gr = df_for_days.groupby('Дата забоя').sum().reset_index()\n",
    "# для суб\n",
    "df_for_days_sub = ukpf_sub[([True  if x.month == params['days'][0] else False for x in ukpf_sub['Дата забоя']])&(ukpf_sub['Дата забоя'].dt.year==year)]\n",
    "df_for_days_gr_sub = df_for_days_sub.groupby('Дата забоя').sum().reset_index()"
   ]
  },
  {
   "cell_type": "code",
   "execution_count": null,
   "id": "bc189585",
   "metadata": {},
   "outputs": [],
   "source": [
    "df_for_days = get_cons_arr(df_for_days_gr,dict_,chema_r,dict_sx)"
   ]
  },
  {
   "cell_type": "code",
   "execution_count": null,
   "id": "38914cf2",
   "metadata": {},
   "outputs": [],
   "source": [
    "# Часть по месяцам\n",
    "df_for_month = ukpf[ukpf['Дата забоя'].dt.month.isin(params['month'])&(ukpf['Дата забоя'].dt.year==year)]\n",
    "df_for_month['Дата забоя'] = [datetime.datetime(x.year,x.month,1) for x in df_for_month['Дата забоя']]\n",
    "df_for_month_gr = df_for_month.groupby('Дата забоя').sum().reset_index()\n",
    "\n",
    "# для суб\n",
    "\n",
    "df_for_month_sub = ukpf_sub[ukpf_sub['Дата забоя'].dt.month.isin(params['month'])&(ukpf_sub['Дата забоя'].dt.year==year)]\n",
    "df_for_month_sub['Дата забоя'] = [datetime.datetime(x.year,x.month,1) for x in df_for_month_sub['Дата забоя']]\n",
    "df_for_month_gr_sub = df_for_month_sub.groupby('Дата забоя').sum().reset_index()"
   ]
  },
  {
   "cell_type": "code",
   "execution_count": null,
   "id": "de95944f",
   "metadata": {},
   "outputs": [],
   "source": [
    "sub_stack_month = df_for_month_gr_sub.set_index('Дата забоя').stack().reset_index()\n",
    "sub_stack_days = df_for_days_gr_sub.set_index('Дата забоя').stack().reset_index()\n",
    "cons_sub = sub_stack_month.append(sub_stack_days)\n",
    "cons_sub.columns = ['Дата забоя','Наименование части','Объем']"
   ]
  },
  {
   "cell_type": "code",
   "execution_count": null,
   "id": "ab768b44",
   "metadata": {},
   "outputs": [],
   "source": [
    "df_for_month = get_cons_arr(df_for_month_gr,dict_,chema_r,dict_sx)\n",
    "cons1 = df_for_days.append(df_for_month)\n",
    "cons1 = cons_sub.append(cons1)\n",
    "cons1.loc[cons1['Наименование части']!='ЦБ','Градация'] = ''\n",
    "cons2 = pd.pivot_table(cons1, values = 'Объем',index =['Градация','Наименование части'],columns = 'Дата забоя',aggfunc=np.sum ).reset_index().fillna(0)"
   ]
  },
  {
   "cell_type": "code",
   "execution_count": null,
   "id": "ea607ea1",
   "metadata": {},
   "outputs": [],
   "source": [
    "# cons2 = calc_dop_chakh(cons2,'Окорочек','Сырье для чахохбили',0.7)\n",
    "# cons2 = calc_dop_chakh(cons2,'Грудка','Сырье для чахохбили',0.3)\n",
    "cons2 = calc_dop_chakh(cons2,'Окорочек','Сырье для чахохбили',0.7,target_chakhoh)\n",
    "cons2 = calc_dop_chakh(cons2,'Грудка','Сырье для чахохбили',0.3,target_chakhoh)\n",
    "cons2 = cons2.groupby(['Градация','Наименование части']).sum().reset_index()"
   ]
  },
  {
   "cell_type": "code",
   "execution_count": null,
   "id": "234e3f9b",
   "metadata": {},
   "outputs": [],
   "source": [
    "cons2.sort_values(['Наименование части','Градация']).to_excel(directory_out+' testUKPF.xlsx')"
   ]
  },
  {
   "cell_type": "code",
   "execution_count": null,
   "id": "d8c5a5cb",
   "metadata": {},
   "outputs": [],
   "source": [
    "gr = pd.concat([cons2['Наименование части'],cons2[[x for x in cons2.columns if cons2[x].dtype=='float']].sum(axis = 1)],axis = 1)\n",
    "gr.columns = ['Наименование части','Объем']\n",
    "gr = gr.groupby('Наименование части').sum().reset_index()\n",
    "gr.sort_values(['Наименование части']).to_excel(directory_out+' testUKPFgr.xlsx')"
   ]
  },
  {
   "cell_type": "code",
   "execution_count": null,
   "id": "00782436",
   "metadata": {},
   "outputs": [],
   "source": [
    "cons2[cons2['Наименование части']=='Окорочек']"
   ]
  },
  {
   "cell_type": "code",
   "execution_count": null,
   "metadata": {},
   "outputs": [],
   "source": [
    "for col in cons2.columns:\n",
    "    if cons2[col].dtype=='float':\n",
    "        print(cons2.loc[cons2['Наименование части']=='Окорочек',col])"
   ]
  },
  {
   "cell_type": "code",
   "execution_count": null,
   "metadata": {},
   "outputs": [],
   "source": [
    "cons2[cons2['Наименование части']=='Окорочек']"
   ]
  },
  {
   "cell_type": "code",
   "execution_count": null,
   "metadata": {},
   "outputs": [],
   "source": [
    "# суммирует значения с фильтром по числовому значению\n",
    "def total_sum(name_col,value_,df):\n",
    "    sum_ = 0\n",
    "    for str_ in df[df[name_col]==value_].sum():\n",
    "        if isinstance(str_, np.float64):\n",
    "            sum_ = sum_+str_\n",
    "\n",
    "    return sum_"
   ]
  },
  {
   "cell_type": "code",
   "execution_count": null,
   "metadata": {},
   "outputs": [],
   "source": [
    "total_sum('Наименование части','Окорочек',cons2)"
   ]
  },
  {
   "cell_type": "code",
   "execution_count": null,
   "metadata": {},
   "outputs": [],
   "source": [
    "ch_target = 5"
   ]
  },
  {
   "cell_type": "code",
   "execution_count": null,
   "metadata": {},
   "outputs": [],
   "source": [
    "okor_target = ch_target*0.7"
   ]
  },
  {
   "cell_type": "code",
   "execution_count": null,
   "metadata": {},
   "outputs": [],
   "source": [
    "okor_target"
   ]
  },
  {
   "cell_type": "code",
   "execution_count": null,
   "metadata": {},
   "outputs": [],
   "source": [
    "# формирование чахохбили\n",
    "# \n",
    "\"\"\"Параметры : cons2:обрабобатываемый df\n",
    "               from_name: часть откуда бурем \n",
    "               to_name: часть куда транспортируем объем\n",
    "               percent: процент по анатомии\n",
    "               tagret_val: целевой объем to_name\"\"\"\n",
    "\n",
    "def calc_dop_chakh(cons2,from_name,to_name,percent,tagret_val):\n",
    "    \n",
    "    target_calc = tagret_val*percent\n",
    "    \n",
    "    for_ch_okor = cons2.loc[cons2['Наименование части']==from_name]\n",
    "    ost_okor = cons2.loc[cons2['Наименование части']==from_name]\n",
    "    \n",
    "    tot_sum = total_sum('Наименование части',from_name,cons2)\n",
    "    if target_calc >= tot_sum:\n",
    "        print('Не возможно сделать данный объем '+to_name+' из '+from_name+', уменьшите его')\n",
    "        return 0\n",
    "    for col in for_ch_okor.columns:\n",
    "        if for_ch_okor[col].dtype=='float':\n",
    "            for_ch_okor.loc[cons2['Наименование части']==from_name,col] = for_ch_okor.loc[cons2['Наименование части']==from_name,col]/tot_sum*target_calc\n",
    "\n",
    "\n",
    "    for col in ost_okor.columns:\n",
    "            if ost_okor[col].dtype=='float':\n",
    "                cons2.loc[cons2['Наименование части']==from_name,col] = ost_okor[col]-for_ch_okor[col]\n",
    "\n",
    "    for_ch_okor['Наименование части'] = 'Сырье для чахохбили'\n",
    "    \n",
    "    cons2 = cons2.append(for_ch_okor).reset_index(drop=True)\n",
    "    \n",
    "    return cons2"
   ]
  },
  {
   "cell_type": "code",
   "execution_count": null,
   "metadata": {},
   "outputs": [],
   "source": [
    "calc_dop_chakh(cons2,'Окорочек','Сырье для чахохбили',0.7,5)"
   ]
  },
  {
   "cell_type": "code",
   "execution_count": null,
   "metadata": {},
   "outputs": [],
   "source": [
    "for_ch_okor"
   ]
  },
  {
   "cell_type": "code",
   "execution_count": null,
   "metadata": {},
   "outputs": [],
   "source": [
    "lst"
   ]
  },
  {
   "cell_type": "code",
   "execution_count": null,
   "metadata": {},
   "outputs": [],
   "source": [
    "cons2.loc[cons2['Наименование части']=='Окорочек',col]"
   ]
  },
  {
   "cell_type": "code",
   "execution_count": null,
   "metadata": {},
   "outputs": [],
   "source": [
    "# формирование чахохбили\n",
    "def calc_dop_chakh(cons2,from_name,to_name,percent):\n",
    "    for_ch_okor = cons2.loc[cons2['Наименование части']==from_name]\n",
    "    ost_okor = cons2.loc[cons2['Наименование части']==from_name]\n",
    "\n",
    "    for col in for_ch_okor.columns:\n",
    "        try:\n",
    "            for_ch_okor.loc[:,col] = for_ch_okor.loc[:,col]*percent\n",
    "        except TypeError:\n",
    "            pass\n",
    "\n",
    "    for col in ost_okor.columns:\n",
    "        if ost_okor[col].dtype=='float':\n",
    "            cons2.loc[cons2['Наименование части']==from_name,col] = ost_okor[col]-for_ch_okor[col]\n",
    "\n",
    "    for_ch_okor['Наименование части'] = to_name\n",
    "\n",
    "    cons2 = cons2.append(for_ch_okor).reset_index(drop=True)\n",
    "    return cons2"
   ]
  }
 ],
 "metadata": {
  "celltoolbar": "Необработанный формат ячейки",
  "kernelspec": {
   "display_name": "Python 3 (ipykernel)",
   "language": "python",
   "name": "python3"
  },
  "language_info": {
   "codemirror_mode": {
    "name": "ipython",
    "version": 3
   },
   "file_extension": ".py",
   "mimetype": "text/x-python",
   "name": "python",
   "nbconvert_exporter": "python",
   "pygments_lexer": "ipython3",
   "version": "3.9.5"
  }
 },
 "nbformat": 4,
 "nbformat_minor": 5
}
